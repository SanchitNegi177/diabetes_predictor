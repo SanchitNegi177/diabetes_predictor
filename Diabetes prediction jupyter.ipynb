{
  "cells": [
    {
      "cell_type": "markdown",
      "metadata": {
        "id": "2D5s0FEQTXrq"
      },
      "source": [
        "# **Importing libraries**"
      ]
    },
    {
      "cell_type": "code",
      "execution_count": 2,
      "metadata": {
        "id": "NrJ4tZ02TJ3B"
      },
      "outputs": [],
      "source": [
        "#  import libraries\n",
        "import pandas as pd\n",
        "import numpy as np\n",
        "import matplotlib.pyplot as plt\n",
        "import seaborn as sns\n",
        "from sklearn.preprocessing import StandardScaler\n",
        "from sklearn.decomposition import PCA\n",
        "from xgboost import XGBClassifier\n",
        "from sklearn.metrics import accuracy_score, precision_score, recall_score, f1_score, confusion_matrix, classification_report\n",
        "from sklearn.model_selection import train_test_split\n",
        "import warnings\n",
        "warnings.filterwarnings(\"ignore\")"
      ]
    },
    {
      "cell_type": "markdown",
      "metadata": {
        "id": "X08cVX4ETlvh"
      },
      "source": [
        "# **Reading data**"
      ]
    },
    {
      "cell_type": "code",
      "execution_count": 3,
      "metadata": {
        "colab": {
          "base_uri": "https://localhost:8080/",
          "height": 383
        },
        "id": "dB5gRGxpThkw",
        "outputId": "03663188-a085-4d18-c7e5-b03037683a02"
      },
      "outputs": [
        {
          "data": {
            "text/html": [
              "<div>\n",
              "<style scoped>\n",
              "    .dataframe tbody tr th:only-of-type {\n",
              "        vertical-align: middle;\n",
              "    }\n",
              "\n",
              "    .dataframe tbody tr th {\n",
              "        vertical-align: top;\n",
              "    }\n",
              "\n",
              "    .dataframe thead th {\n",
              "        text-align: right;\n",
              "    }\n",
              "</style>\n",
              "<table border=\"1\" class=\"dataframe\">\n",
              "  <thead>\n",
              "    <tr style=\"text-align: right;\">\n",
              "      <th></th>\n",
              "      <th>gender</th>\n",
              "      <th>age</th>\n",
              "      <th>hypertension</th>\n",
              "      <th>heart_disease</th>\n",
              "      <th>smoking_history</th>\n",
              "      <th>bmi</th>\n",
              "      <th>HbA1c_level</th>\n",
              "      <th>blood_glucose_level</th>\n",
              "      <th>diabetes</th>\n",
              "    </tr>\n",
              "  </thead>\n",
              "  <tbody>\n",
              "    <tr>\n",
              "      <th>0</th>\n",
              "      <td>Female</td>\n",
              "      <td>80.0</td>\n",
              "      <td>0</td>\n",
              "      <td>1</td>\n",
              "      <td>never</td>\n",
              "      <td>25.19</td>\n",
              "      <td>6.6</td>\n",
              "      <td>140</td>\n",
              "      <td>0</td>\n",
              "    </tr>\n",
              "    <tr>\n",
              "      <th>1</th>\n",
              "      <td>Female</td>\n",
              "      <td>54.0</td>\n",
              "      <td>0</td>\n",
              "      <td>0</td>\n",
              "      <td>No Info</td>\n",
              "      <td>27.32</td>\n",
              "      <td>6.6</td>\n",
              "      <td>80</td>\n",
              "      <td>0</td>\n",
              "    </tr>\n",
              "    <tr>\n",
              "      <th>2</th>\n",
              "      <td>Male</td>\n",
              "      <td>28.0</td>\n",
              "      <td>0</td>\n",
              "      <td>0</td>\n",
              "      <td>never</td>\n",
              "      <td>27.32</td>\n",
              "      <td>5.7</td>\n",
              "      <td>158</td>\n",
              "      <td>0</td>\n",
              "    </tr>\n",
              "    <tr>\n",
              "      <th>3</th>\n",
              "      <td>Female</td>\n",
              "      <td>36.0</td>\n",
              "      <td>0</td>\n",
              "      <td>0</td>\n",
              "      <td>current</td>\n",
              "      <td>23.45</td>\n",
              "      <td>5.0</td>\n",
              "      <td>155</td>\n",
              "      <td>0</td>\n",
              "    </tr>\n",
              "    <tr>\n",
              "      <th>4</th>\n",
              "      <td>Male</td>\n",
              "      <td>76.0</td>\n",
              "      <td>1</td>\n",
              "      <td>1</td>\n",
              "      <td>current</td>\n",
              "      <td>20.14</td>\n",
              "      <td>4.8</td>\n",
              "      <td>155</td>\n",
              "      <td>0</td>\n",
              "    </tr>\n",
              "    <tr>\n",
              "      <th>5</th>\n",
              "      <td>Female</td>\n",
              "      <td>20.0</td>\n",
              "      <td>0</td>\n",
              "      <td>0</td>\n",
              "      <td>never</td>\n",
              "      <td>27.32</td>\n",
              "      <td>6.6</td>\n",
              "      <td>85</td>\n",
              "      <td>0</td>\n",
              "    </tr>\n",
              "    <tr>\n",
              "      <th>6</th>\n",
              "      <td>Female</td>\n",
              "      <td>44.0</td>\n",
              "      <td>0</td>\n",
              "      <td>0</td>\n",
              "      <td>never</td>\n",
              "      <td>19.31</td>\n",
              "      <td>6.5</td>\n",
              "      <td>200</td>\n",
              "      <td>1</td>\n",
              "    </tr>\n",
              "    <tr>\n",
              "      <th>7</th>\n",
              "      <td>Female</td>\n",
              "      <td>79.0</td>\n",
              "      <td>0</td>\n",
              "      <td>0</td>\n",
              "      <td>No Info</td>\n",
              "      <td>23.86</td>\n",
              "      <td>5.7</td>\n",
              "      <td>85</td>\n",
              "      <td>0</td>\n",
              "    </tr>\n",
              "    <tr>\n",
              "      <th>8</th>\n",
              "      <td>Male</td>\n",
              "      <td>42.0</td>\n",
              "      <td>0</td>\n",
              "      <td>0</td>\n",
              "      <td>never</td>\n",
              "      <td>33.64</td>\n",
              "      <td>4.8</td>\n",
              "      <td>145</td>\n",
              "      <td>0</td>\n",
              "    </tr>\n",
              "    <tr>\n",
              "      <th>9</th>\n",
              "      <td>Female</td>\n",
              "      <td>32.0</td>\n",
              "      <td>0</td>\n",
              "      <td>0</td>\n",
              "      <td>never</td>\n",
              "      <td>27.32</td>\n",
              "      <td>5.0</td>\n",
              "      <td>100</td>\n",
              "      <td>0</td>\n",
              "    </tr>\n",
              "  </tbody>\n",
              "</table>\n",
              "</div>"
            ],
            "text/plain": [
              "   gender   age  hypertension  heart_disease smoking_history    bmi  \\\n",
              "0  Female  80.0             0              1           never  25.19   \n",
              "1  Female  54.0             0              0         No Info  27.32   \n",
              "2    Male  28.0             0              0           never  27.32   \n",
              "3  Female  36.0             0              0         current  23.45   \n",
              "4    Male  76.0             1              1         current  20.14   \n",
              "5  Female  20.0             0              0           never  27.32   \n",
              "6  Female  44.0             0              0           never  19.31   \n",
              "7  Female  79.0             0              0         No Info  23.86   \n",
              "8    Male  42.0             0              0           never  33.64   \n",
              "9  Female  32.0             0              0           never  27.32   \n",
              "\n",
              "   HbA1c_level  blood_glucose_level  diabetes  \n",
              "0          6.6                  140         0  \n",
              "1          6.6                   80         0  \n",
              "2          5.7                  158         0  \n",
              "3          5.0                  155         0  \n",
              "4          4.8                  155         0  \n",
              "5          6.6                   85         0  \n",
              "6          6.5                  200         1  \n",
              "7          5.7                   85         0  \n",
              "8          4.8                  145         0  \n",
              "9          5.0                  100         0  "
            ]
          },
          "execution_count": 3,
          "metadata": {},
          "output_type": "execute_result"
        }
      ],
      "source": [
        "df = pd.read_csv('diabetes_prediction_dataset.csv')\n",
        "df.head(10)"
      ]
    },
    {
      "cell_type": "markdown",
      "metadata": {
        "id": "fSuHg_Y-U41-"
      },
      "source": [
        "# **Descriptive statistics**"
      ]
    },
    {
      "cell_type": "code",
      "execution_count": 4,
      "metadata": {
        "colab": {
          "base_uri": "https://localhost:8080/",
          "height": 320
        },
        "id": "U-zSPUc9UdxA",
        "outputId": "b1ca1958-e8f1-4001-863b-eb6345e0f32b"
      },
      "outputs": [
        {
          "data": {
            "text/html": [
              "<div>\n",
              "<style scoped>\n",
              "    .dataframe tbody tr th:only-of-type {\n",
              "        vertical-align: middle;\n",
              "    }\n",
              "\n",
              "    .dataframe tbody tr th {\n",
              "        vertical-align: top;\n",
              "    }\n",
              "\n",
              "    .dataframe thead th {\n",
              "        text-align: right;\n",
              "    }\n",
              "</style>\n",
              "<table border=\"1\" class=\"dataframe\">\n",
              "  <thead>\n",
              "    <tr style=\"text-align: right;\">\n",
              "      <th></th>\n",
              "      <th>age</th>\n",
              "      <th>hypertension</th>\n",
              "      <th>heart_disease</th>\n",
              "      <th>bmi</th>\n",
              "      <th>HbA1c_level</th>\n",
              "      <th>blood_glucose_level</th>\n",
              "      <th>diabetes</th>\n",
              "    </tr>\n",
              "  </thead>\n",
              "  <tbody>\n",
              "    <tr>\n",
              "      <th>count</th>\n",
              "      <td>100000.000000</td>\n",
              "      <td>100000.00000</td>\n",
              "      <td>100000.000000</td>\n",
              "      <td>100000.000000</td>\n",
              "      <td>100000.000000</td>\n",
              "      <td>100000.000000</td>\n",
              "      <td>100000.000000</td>\n",
              "    </tr>\n",
              "    <tr>\n",
              "      <th>mean</th>\n",
              "      <td>41.885856</td>\n",
              "      <td>0.07485</td>\n",
              "      <td>0.039420</td>\n",
              "      <td>27.320767</td>\n",
              "      <td>5.527507</td>\n",
              "      <td>138.058060</td>\n",
              "      <td>0.085000</td>\n",
              "    </tr>\n",
              "    <tr>\n",
              "      <th>std</th>\n",
              "      <td>22.516840</td>\n",
              "      <td>0.26315</td>\n",
              "      <td>0.194593</td>\n",
              "      <td>6.636783</td>\n",
              "      <td>1.070672</td>\n",
              "      <td>40.708136</td>\n",
              "      <td>0.278883</td>\n",
              "    </tr>\n",
              "    <tr>\n",
              "      <th>min</th>\n",
              "      <td>0.080000</td>\n",
              "      <td>0.00000</td>\n",
              "      <td>0.000000</td>\n",
              "      <td>10.010000</td>\n",
              "      <td>3.500000</td>\n",
              "      <td>80.000000</td>\n",
              "      <td>0.000000</td>\n",
              "    </tr>\n",
              "    <tr>\n",
              "      <th>25%</th>\n",
              "      <td>24.000000</td>\n",
              "      <td>0.00000</td>\n",
              "      <td>0.000000</td>\n",
              "      <td>23.630000</td>\n",
              "      <td>4.800000</td>\n",
              "      <td>100.000000</td>\n",
              "      <td>0.000000</td>\n",
              "    </tr>\n",
              "    <tr>\n",
              "      <th>50%</th>\n",
              "      <td>43.000000</td>\n",
              "      <td>0.00000</td>\n",
              "      <td>0.000000</td>\n",
              "      <td>27.320000</td>\n",
              "      <td>5.800000</td>\n",
              "      <td>140.000000</td>\n",
              "      <td>0.000000</td>\n",
              "    </tr>\n",
              "    <tr>\n",
              "      <th>75%</th>\n",
              "      <td>60.000000</td>\n",
              "      <td>0.00000</td>\n",
              "      <td>0.000000</td>\n",
              "      <td>29.580000</td>\n",
              "      <td>6.200000</td>\n",
              "      <td>159.000000</td>\n",
              "      <td>0.000000</td>\n",
              "    </tr>\n",
              "    <tr>\n",
              "      <th>max</th>\n",
              "      <td>80.000000</td>\n",
              "      <td>1.00000</td>\n",
              "      <td>1.000000</td>\n",
              "      <td>95.690000</td>\n",
              "      <td>9.000000</td>\n",
              "      <td>300.000000</td>\n",
              "      <td>1.000000</td>\n",
              "    </tr>\n",
              "  </tbody>\n",
              "</table>\n",
              "</div>"
            ],
            "text/plain": [
              "                 age  hypertension  heart_disease            bmi  \\\n",
              "count  100000.000000  100000.00000  100000.000000  100000.000000   \n",
              "mean       41.885856       0.07485       0.039420      27.320767   \n",
              "std        22.516840       0.26315       0.194593       6.636783   \n",
              "min         0.080000       0.00000       0.000000      10.010000   \n",
              "25%        24.000000       0.00000       0.000000      23.630000   \n",
              "50%        43.000000       0.00000       0.000000      27.320000   \n",
              "75%        60.000000       0.00000       0.000000      29.580000   \n",
              "max        80.000000       1.00000       1.000000      95.690000   \n",
              "\n",
              "         HbA1c_level  blood_glucose_level       diabetes  \n",
              "count  100000.000000        100000.000000  100000.000000  \n",
              "mean        5.527507           138.058060       0.085000  \n",
              "std         1.070672            40.708136       0.278883  \n",
              "min         3.500000            80.000000       0.000000  \n",
              "25%         4.800000           100.000000       0.000000  \n",
              "50%         5.800000           140.000000       0.000000  \n",
              "75%         6.200000           159.000000       0.000000  \n",
              "max         9.000000           300.000000       1.000000  "
            ]
          },
          "execution_count": 4,
          "metadata": {},
          "output_type": "execute_result"
        }
      ],
      "source": [
        "df.describe()"
      ]
    },
    {
      "cell_type": "markdown",
      "metadata": {
        "id": "_n8V4yDvVNWG"
      },
      "source": [
        "# **Encoding data**"
      ]
    },
    {
      "cell_type": "code",
      "execution_count": 6,
      "metadata": {
        "colab": {
          "base_uri": "https://localhost:8080/",
          "height": 226
        },
        "id": "AOs0kmihU4da",
        "outputId": "533d3dd0-6599-487d-afcb-e4111a0047a0"
      },
      "outputs": [
        {
          "data": {
            "text/html": [
              "<div>\n",
              "<style scoped>\n",
              "    .dataframe tbody tr th:only-of-type {\n",
              "        vertical-align: middle;\n",
              "    }\n",
              "\n",
              "    .dataframe tbody tr th {\n",
              "        vertical-align: top;\n",
              "    }\n",
              "\n",
              "    .dataframe thead th {\n",
              "        text-align: right;\n",
              "    }\n",
              "</style>\n",
              "<table border=\"1\" class=\"dataframe\">\n",
              "  <thead>\n",
              "    <tr style=\"text-align: right;\">\n",
              "      <th></th>\n",
              "      <th>gender</th>\n",
              "      <th>age</th>\n",
              "      <th>hypertension</th>\n",
              "      <th>heart_disease</th>\n",
              "      <th>smoking_history</th>\n",
              "      <th>bmi</th>\n",
              "      <th>HbA1c_level</th>\n",
              "      <th>blood_glucose_level</th>\n",
              "      <th>diabetes</th>\n",
              "    </tr>\n",
              "  </thead>\n",
              "  <tbody>\n",
              "    <tr>\n",
              "      <th>0</th>\n",
              "      <td>0</td>\n",
              "      <td>80.0</td>\n",
              "      <td>0</td>\n",
              "      <td>1</td>\n",
              "      <td>4</td>\n",
              "      <td>25.19</td>\n",
              "      <td>6.6</td>\n",
              "      <td>140</td>\n",
              "      <td>0</td>\n",
              "    </tr>\n",
              "    <tr>\n",
              "      <th>1</th>\n",
              "      <td>0</td>\n",
              "      <td>54.0</td>\n",
              "      <td>0</td>\n",
              "      <td>0</td>\n",
              "      <td>0</td>\n",
              "      <td>27.32</td>\n",
              "      <td>6.6</td>\n",
              "      <td>80</td>\n",
              "      <td>0</td>\n",
              "    </tr>\n",
              "    <tr>\n",
              "      <th>2</th>\n",
              "      <td>1</td>\n",
              "      <td>28.0</td>\n",
              "      <td>0</td>\n",
              "      <td>0</td>\n",
              "      <td>4</td>\n",
              "      <td>27.32</td>\n",
              "      <td>5.7</td>\n",
              "      <td>158</td>\n",
              "      <td>0</td>\n",
              "    </tr>\n",
              "    <tr>\n",
              "      <th>3</th>\n",
              "      <td>0</td>\n",
              "      <td>36.0</td>\n",
              "      <td>0</td>\n",
              "      <td>0</td>\n",
              "      <td>1</td>\n",
              "      <td>23.45</td>\n",
              "      <td>5.0</td>\n",
              "      <td>155</td>\n",
              "      <td>0</td>\n",
              "    </tr>\n",
              "    <tr>\n",
              "      <th>4</th>\n",
              "      <td>1</td>\n",
              "      <td>76.0</td>\n",
              "      <td>1</td>\n",
              "      <td>1</td>\n",
              "      <td>1</td>\n",
              "      <td>20.14</td>\n",
              "      <td>4.8</td>\n",
              "      <td>155</td>\n",
              "      <td>0</td>\n",
              "    </tr>\n",
              "  </tbody>\n",
              "</table>\n",
              "</div>"
            ],
            "text/plain": [
              "   gender   age  hypertension  heart_disease  smoking_history    bmi  \\\n",
              "0       0  80.0             0              1                4  25.19   \n",
              "1       0  54.0             0              0                0  27.32   \n",
              "2       1  28.0             0              0                4  27.32   \n",
              "3       0  36.0             0              0                1  23.45   \n",
              "4       1  76.0             1              1                1  20.14   \n",
              "\n",
              "   HbA1c_level  blood_glucose_level  diabetes  \n",
              "0          6.6                  140         0  \n",
              "1          6.6                   80         0  \n",
              "2          5.7                  158         0  \n",
              "3          5.0                  155         0  \n",
              "4          4.8                  155         0  "
            ]
          },
          "execution_count": 6,
          "metadata": {},
          "output_type": "execute_result"
        }
      ],
      "source": [
        "# incode the data\n",
        "from sklearn.preprocessing import LabelEncoder\n",
        "le = LabelEncoder()\n",
        "df['gender'] = le.fit_transform(df['gender'])\n",
        "df['smoking_history'] = le.fit_transform(df['smoking_history'])\n",
        "df.head()"
      ]
    },
    {
      "cell_type": "markdown",
      "metadata": {
        "id": "2GD8LYOYYASp"
      },
      "source": [
        "# **Standardizing features**"
      ]
    },
    {
      "cell_type": "code",
      "execution_count": 7,
      "metadata": {
        "colab": {
          "base_uri": "https://localhost:8080/"
        },
        "id": "9E2iyVXjX8f6",
        "outputId": "535771c3-284a-48d5-8468-5f31238edcb5"
      },
      "outputs": [
        {
          "name": "stdout",
          "output_type": "stream",
          "text": [
            "[[ 2.78540772  1.11380852  1.44238865 ... -0.74603431 -0.3912945\n",
            "   0.31009524]\n",
            " [-0.36823594 -0.26547481 -0.08223904 ... -1.56300726  1.3057395\n",
            "  -0.67142183]\n",
            " [-0.04576095  0.47239003 -0.20330488 ...  0.1339401  -0.87513994\n",
            "   0.43287804]\n",
            " ...\n",
            " [ 0.73012021  0.48010593  0.16862894 ...  0.16522359 -0.18870813\n",
            "  -0.93907164]\n",
            " [-0.31707912 -2.06843634  0.62283157 ...  0.35821488  0.25738714\n",
            "   1.28056312]\n",
            " [-0.38583083 -0.26039515 -0.22132652 ... -1.49091054  0.48073339\n",
            "  -1.03019708]]\n"
          ]
        }
      ],
      "source": [
        "# Selecting features and target variable\n",
        "features = ['gender', 'age', 'hypertension', 'heart_disease', 'smoking_history', 'bmi', 'HbA1c_level', 'blood_glucose_level']\n",
        "X = df[features]\n",
        "Y = df['diabetes']\n",
        "\n",
        "# Standardizing the features\n",
        "scaler = StandardScaler()\n",
        "X_scaled = scaler.fit_transform(X)\n",
        "\n",
        "# Applying PCA\n",
        "pca = PCA()\n",
        "X_pca = pca.fit_transform(X_scaled)\n",
        "\n",
        "print(X_pca)"
      ]
    },
    {
      "cell_type": "markdown",
      "metadata": {
        "id": "IlVntj0sXp2a"
      },
      "source": [
        "# **Building Model**"
      ]
    },
    {
      "cell_type": "code",
      "execution_count": 8,
      "metadata": {
        "colab": {
          "base_uri": "https://localhost:8080/"
        },
        "id": "UyaXUGRZXdIf",
        "outputId": "7d4fdd9b-7c6a-4f6d-b6f3-8fc1f8deea7d"
      },
      "outputs": [
        {
          "name": "stdout",
          "output_type": "stream",
          "text": [
            "Accuracy of model: 0.9675\n",
            "Classification Report of model:\n",
            "              precision    recall  f1-score   support\n",
            "\n",
            "           0       0.97      1.00      0.98     22849\n",
            "           1       0.94      0.67      0.78      2151\n",
            "\n",
            "    accuracy                           0.97     25000\n",
            "   macro avg       0.95      0.83      0.88     25000\n",
            "weighted avg       0.97      0.97      0.96     25000\n",
            "\n"
          ]
        }
      ],
      "source": [
        "# Splitting the data into training and testing sets\n",
        "X_train, X_test, Y_train, Y_test = train_test_split(X_pca, Y, test_size=0.25, random_state=1)\n",
        "\n",
        "# Initializing and training the XGBoost model\n",
        "model = XGBClassifier(random_state=1)\n",
        "model.fit(X_train, Y_train)\n",
        "\n",
        "# Making predictions\n",
        "Y_pred = model.predict(X_test)\n",
        "\n",
        "# Evaluating the model\n",
        "accuracy = accuracy_score(Y_test, Y_pred)\n",
        "print(f'Accuracy of model: {accuracy:.4f}')\n",
        "print(f'Classification Report of model:\\n{classification_report(Y_test, Y_pred)}')\n"
      ]
    },
    {
      "cell_type": "markdown",
      "metadata": {
        "id": "26WVbJO-Zoup"
      },
      "source": [
        "# **Confusion matrix**"
      ]
    },
    {
      "cell_type": "code",
      "execution_count": 38,
      "metadata": {
        "colab": {
          "base_uri": "https://localhost:8080/",
          "height": 534
        },
        "id": "oY9YIf1RaOG7",
        "outputId": "d7975ade-cdc9-468b-8369-8340a2db9f68"
      },
      "outputs": [
        {
          "data": {
            "image/png": "[encoded data removed]",
            "text/plain": [
              "<Figure size 800x600 with 2 Axes>"
            ]
          },
          "metadata": {},
          "output_type": "display_data"
        }
      ],
      "source": [
        "# Compute the confusion matrix\n",
        "conf_matrix = confusion_matrix(Y_test, Y_pred)\n",
        "\n",
        "# Plotting the confusion matrix\n",
        "plt.figure(figsize=(8, 6))\n",
        "sns.heatmap(conf_matrix, annot=True, fmt='d', cmap='Blues', xticklabels=['No Diabetes', 'Diabetes'], yticklabels=['No Diabetes', 'Diabetes'])\n",
        "plt.title('Confusion Matrix')\n",
        "plt.xlabel('Predicted')\n",
        "plt.ylabel('Actual')\n",
        "plt.show()"
      ]
    },
    {
      "cell_type": "markdown",
      "metadata": {
        "id": "ZgXCj88HaWHN"
      },
      "source": [
        "# **Save Model**"
      ]
    },
    {
      "cell_type": "code",
      "execution_count": 9,
      "metadata": {
        "id": "ARqw_8xyaaO_"
      },
      "outputs": [],
      "source": [
        "import pickle\n",
        "\n",
        "# Save the model\n",
        "with open('Diabetes_model.pkl', 'wb') as f:\n",
        "    pickle.dump(model, f)"
      ]
    },
    {
      "cell_type": "markdown",
      "metadata": {
        "id": "7tTxtcV_arrc"
      },
      "source": [
        "# **Predicting for Custom dataset CLI**"
      ]
    },
    {
      "cell_type": "code",
      "execution_count": 10,
      "metadata": {
        "colab": {
          "base_uri": "https://localhost:8080/"
        },
        "id": "1qrZrK8WaxsA",
        "outputId": "3586d808-5961-44bb-a0de-6de6b4d5c1ed"
      },
      "outputs": [
        {
          "name": "stdout",
          "output_type": "stream",
          "text": [
            "['sanhcit']\n",
            "[[1, 45, 0, 0, 1, 25.6, 6.5, 150]]\n",
            "sanhcit  is not predicted to have diabetes.\n"
          ]
        }
      ],
      "source": [
        "custom_data=[]\n",
        "name=[]\n",
        "\n",
        "n=int(input(\"Enter no. of patients: \"))\n",
        "for i in range(n):\n",
        "  l=[]\n",
        "  val=input(\"Enter name :\")\n",
        "  name.append(val)\n",
        "  val=int(input(\"Enter gender (male(1)/female(0)) :\"))\n",
        "  l.append(val)\n",
        "  val=int(input(\"Enter Age :\"))\n",
        "  l.append(val)\n",
        "  val=int(input(\"Suffering from Hypertension (Yes(1)/No(0)) :\"))\n",
        "  l.append(val)\n",
        "  val=int(input(\"Suffering from Heart Disease (Yes(1)/No(0)) :\"))\n",
        "  l.append(val)\n",
        "  val=int(input(\"Smoking History (Yes(1)/No(0)) :\"))\n",
        "  l.append(val)\n",
        "  val=float(input(\"BMI :\"))\n",
        "  l.append(val)\n",
        "  val=float(input(\"HbA1c level :\"))\n",
        "  l.append(val)\n",
        "  val=int(input(\"Glucose level :\"))\n",
        "  l.append(val)\n",
        "  custom_data.append(l)\n",
        "\n",
        "print(name)\n",
        "print(custom_data)\n",
        "\n",
        "  # Convert to pandas DataFrame\n",
        "custom_df = pd.DataFrame(custom_data, columns=features)\n",
        "\n",
        "  # Standardize the custom data\n",
        "custom_X = scaler.transform(custom_df[features])\n",
        "\n",
        "  # Apply PCA transformation\n",
        "custom_X_pca = pca.transform(custom_X)\n",
        "\n",
        "  # Make predictions using the trained XGBoost model\n",
        "custom_predictions = model.predict(custom_X_pca)\n",
        "  # print(custom_predictions)\n",
        "\n",
        "for i, pred in enumerate(custom_predictions):\n",
        "    if pred == 0:\n",
        "        print(name[i],\" is predicted to not have diabetes.\")\n",
        "    else:\n",
        "        print(name[i],\" is predicted to have diabetes.\")\n"
      ]
    },
    {
      "cell_type": "markdown",
      "metadata": {
        "id": "Zu1c8dfUq1-6"
      },
      "source": [
        "# **Predicting for Custom dataset GUI**"
      ]
    },
    {
      "cell_type": "code",
      "execution_count": 11,
      "metadata": {
        "colab": {
          "base_uri": "https://localhost:8080/",
          "height": 367
        },
        "id": "Inflj6VUrBAw",
        "outputId": "bcc49384-6927-4b42-8f5f-6a1f0ceae6ed"
      },
      "outputs": [
        {
          "name": "stderr",
          "output_type": "stream",
          "text": [
            "Exception in Tkinter callback\n",
            "Traceback (most recent call last):\n",
            "  File \"C:\\Program Files\\WindowsApps\\PythonSoftwareFoundation.Python.3.11_3.11.2544.0_x64__qbz5n2kfra8p0\\Lib\\tkinter\\__init__.py\", line 1967, in __call__\n",
            "    return self.func(*args)\n",
            "           ^^^^^^^^^^^^^^^^\n",
            "  File \"C:\\Users\\acer\\AppData\\Local\\Temp\\ipykernel_11944\\1656004783.py\", line 52, in submit_data\n",
            "    display_result(patient_data)\n",
            "  File \"C:\\Users\\acer\\AppData\\Local\\Temp\\ipykernel_11944\\1656004783.py\", line 93, in display_result\n",
            "    result_text = f\"Name: {data['Name']}\\n\"\n",
            "                           ~~~~^^^^^^^^\n",
            "KeyError: 'Name'\n",
            "Exception in Tkinter callback\n",
            "Traceback (most recent call last):\n",
            "  File \"C:\\Program Files\\WindowsApps\\PythonSoftwareFoundation.Python.3.11_3.11.2544.0_x64__qbz5n2kfra8p0\\Lib\\tkinter\\__init__.py\", line 1967, in __call__\n",
            "    return self.func(*args)\n",
            "           ^^^^^^^^^^^^^^^^\n",
            "  File \"C:\\Users\\acer\\AppData\\Local\\Temp\\ipykernel_11944\\1656004783.py\", line 52, in submit_data\n",
            "    display_result(patient_data)\n",
            "  File \"C:\\Users\\acer\\AppData\\Local\\Temp\\ipykernel_11944\\1656004783.py\", line 93, in display_result\n",
            "    result_text = f\"Name: {data['Name']}\\n\"\n",
            "                           ~~~~^^^^^^^^\n",
            "KeyError: 'Name'\n",
            "Exception in Tkinter callback\n",
            "Traceback (most recent call last):\n",
            "  File \"C:\\Program Files\\WindowsApps\\PythonSoftwareFoundation.Python.3.11_3.11.2544.0_x64__qbz5n2kfra8p0\\Lib\\tkinter\\__init__.py\", line 1967, in __call__\n",
            "    return self.func(*args)\n",
            "           ^^^^^^^^^^^^^^^^\n",
            "  File \"C:\\Users\\acer\\AppData\\Local\\Temp\\ipykernel_11944\\1656004783.py\", line 52, in submit_data\n",
            "    display_result(patient_data)\n",
            "  File \"C:\\Users\\acer\\AppData\\Local\\Temp\\ipykernel_11944\\1656004783.py\", line 93, in display_result\n",
            "    result_text = f\"Name: {data['Name']}\\n\"\n",
            "                           ~~~~^^^^^^^^\n",
            "KeyError: 'Name'\n"
          ]
        },
        {
          "ename": "KeyboardInterrupt",
          "evalue": "",
          "output_type": "error",
          "traceback": [
            "\u001b[1;31m---------------------------------------------------------------------------\u001b[0m",
            "\u001b[1;31mKeyboardInterrupt\u001b[0m                         Traceback (most recent call last)",
            "Cell \u001b[1;32mIn[11], line 166\u001b[0m\n\u001b[0;32m    163\u001b[0m result_label \u001b[38;5;241m=\u001b[39m tk\u001b[38;5;241m.\u001b[39mLabel(root, text\u001b[38;5;241m=\u001b[39m\u001b[38;5;124m\"\u001b[39m\u001b[38;5;124m\"\u001b[39m, justify\u001b[38;5;241m=\u001b[39m\u001b[38;5;124m\"\u001b[39m\u001b[38;5;124mleft\u001b[39m\u001b[38;5;124m\"\u001b[39m)\n\u001b[0;32m    164\u001b[0m result_label\u001b[38;5;241m.\u001b[39mgrid(row\u001b[38;5;241m=\u001b[39m\u001b[38;5;241m10\u001b[39m, column\u001b[38;5;241m=\u001b[39m\u001b[38;5;241m0\u001b[39m, columnspan\u001b[38;5;241m=\u001b[39m\u001b[38;5;241m3\u001b[39m, pady\u001b[38;5;241m=\u001b[39m\u001b[38;5;241m10\u001b[39m)\n\u001b[1;32m--> 166\u001b[0m \u001b[43mroot\u001b[49m\u001b[38;5;241;43m.\u001b[39;49m\u001b[43mmainloop\u001b[49m\u001b[43m(\u001b[49m\u001b[43m)\u001b[49m\n",
            "File \u001b[1;32mC:\\Program Files\\WindowsApps\\PythonSoftwareFoundation.Python.3.11_3.11.2544.0_x64__qbz5n2kfra8p0\\Lib\\tkinter\\__init__.py:1504\u001b[0m, in \u001b[0;36mMisc.mainloop\u001b[1;34m(self, n)\u001b[0m\n\u001b[0;32m   1502\u001b[0m \u001b[38;5;28;01mdef\u001b[39;00m \u001b[38;5;21mmainloop\u001b[39m(\u001b[38;5;28mself\u001b[39m, n\u001b[38;5;241m=\u001b[39m\u001b[38;5;241m0\u001b[39m):\n\u001b[0;32m   1503\u001b[0m \u001b[38;5;250m    \u001b[39m\u001b[38;5;124;03m\"\"\"Call the mainloop of Tk.\"\"\"\u001b[39;00m\n\u001b[1;32m-> 1504\u001b[0m     \u001b[38;5;28;43mself\u001b[39;49m\u001b[38;5;241;43m.\u001b[39;49m\u001b[43mtk\u001b[49m\u001b[38;5;241;43m.\u001b[39;49m\u001b[43mmainloop\u001b[49m\u001b[43m(\u001b[49m\u001b[43mn\u001b[49m\u001b[43m)\u001b[49m\n",
            "\u001b[1;31mKeyboardInterrupt\u001b[0m: "
          ]
        },
        {
          "ename": "",
          "evalue": "",
          "output_type": "error",
          "traceback": [
            "\u001b[1;31mThe Kernel crashed while executing code in the current cell or a previous cell. \n",
            "\u001b[1;31mPlease review the code in the cell(s) to identify a possible cause of the failure. \n",
            "\u001b[1;31mClick <a href='https://aka.ms/vscodeJupyterKernelCrash'>here</a> for more info. \n",
            "\u001b[1;31mView Jupyter <a href='command:jupyter.viewOutput'>log</a> for further details."
          ]
        }
      ],
      "source": [
        "import tkinter as tk\n",
        "from tkinter import messagebox\n",
        "\n",
        "def submit_data():\n",
        "    try:\n",
        "        name = entry_name.get()\n",
        "\n",
        "        gender = gender_var.get()\n",
        "        if gender not in [0, 1]:\n",
        "            raise ValueError(\"Gender must be selected.\")\n",
        "\n",
        "        age = int(entry_age.get())\n",
        "        if not (0 <= age <= 120):\n",
        "            raise ValueError(\"Age must be between 0 and 120.\")\n",
        "\n",
        "        hypertension = hypertension_var.get()\n",
        "        if hypertension not in [0, 1]:\n",
        "            raise ValueError(\"Hypertension must be selected.\")\n",
        "\n",
        "        heart_disease = heart_disease_var.get()\n",
        "        if heart_disease not in [0, 1]:\n",
        "            raise ValueError(\"Heart Disease must be selected.\")\n",
        "\n",
        "        smoking_history = smoking_history_var.get()\n",
        "        if smoking_history not in [0, 1]:\n",
        "            raise ValueError(\"Smoking History must be selected.\")\n",
        "\n",
        "        bmi = float(entry_bmi.get())\n",
        "        if not (10 <= bmi <= 100):\n",
        "            raise ValueError(\"BMI must be between 10 and 100.\")\n",
        "\n",
        "        hba1c = float(entry_hba1c.get())\n",
        "        if not (3 <= hba1c <= 10):\n",
        "            raise ValueError(\"HbA1c level must be between 3 and 10.\")\n",
        "\n",
        "        glucose = int(entry_glucose.get())\n",
        "        if not (80 <= glucose <= 300):\n",
        "            raise ValueError(\"Glucose level must be between 80 and 300.\")\n",
        "\n",
        "        patient_data_dict = {\n",
        "        \"Name\": name,\n",
        "        \"Gender\": \"Male\" if gender == 1 else \"Female\",\n",
        "        \"Age\": age,\n",
        "        \"Hypertension\": \"Yes\" if hypertension == 1 else \"No\",\n",
        "        \"Heart Disease\": \"Yes\" if heart_disease == 1 else \"No\",\n",
        "        \"Smoking History\": \"Yes\" if smoking_history == 1 else \"No\",\n",
        "        \"BMI\": bmi,\n",
        "        \"HbA1c\": hba1c,\n",
        "        \"Glucose\": glucose\n",
        "        }\n",
        "\n",
        "        patient_data=[gender,age,hypertension,heart_disease,smoking_history,bmi,hba1c,glucose]\n",
        "        display_result(patient_data_dict)\n",
        "        \n",
        "        data_as_array=np.asarray(patient_data)\n",
        "        data_as_array=data_as_array.reshape(1,-1)\n",
        "\n",
        "          # Standardize the custom data\n",
        "        custom_X = scaler.transform(data_as_array)\n",
        "\n",
        "          # Apply PCA transformation\n",
        "        custom_X_pca = pca.transform(custom_X)\n",
        "\n",
        "          # Make predictions using the trained XGBoost model\n",
        "        custom_predictions = model.predict(custom_X_pca)\n",
        "        res=\"\"\n",
        "        if custom_predictions == 0:\n",
        "          res=f\"{patient_data_dict['Name']} is not predicted to have diabetes.\"\n",
        "        else:\n",
        "          res=f\"{patient_data_dict['Name']} is predicted to have diabetes.\"\n",
        "\n",
        "        result_label.config(text=res)\n",
        "\n",
        "\n",
        "        if messagebox.askyesno(\"Continue\", \"Do you want to enter another patient's data?\"):\n",
        "            reset_form()\n",
        "        else:\n",
        "            root.quit()\n",
        "\n",
        "    except ValueError as e:\n",
        "        messagebox.showerror(\"Invalid Input\", str(e))\n",
        "\n",
        "def reset_form():\n",
        "    entry_name.delete(0, tk.END)\n",
        "    gender_var.set(-1)\n",
        "    entry_age.delete(0, tk.END)\n",
        "    hypertension_var.set(-1)\n",
        "    heart_disease_var.set(-1)\n",
        "    smoking_history_var.set(-1)\n",
        "    entry_bmi.delete(0, tk.END)\n",
        "    entry_hba1c.delete(0, tk.END)\n",
        "    entry_glucose.delete(0, tk.END)\n",
        "    result_label.config(text=\"\")\n",
        "\n",
        "def display_result(data):\n",
        "    result_text = f\"Name: {data['Name']}\\n\"\n",
        "    result_text += f\"Gender: {data['Gender']}\\n\"\n",
        "    result_text += f\"Age: {data['Age']}\\n\"\n",
        "    result_text += f\"Hypertension: {data['Hypertension']}\\n\"\n",
        "    result_text += f\"Heart Disease: {data['Heart Disease']}\\n\"\n",
        "    result_text += f\"Smoking History: {data['Smoking History']}\\n\"\n",
        "    result_text += f\"BMI: {data['BMI']}\\n\"\n",
        "    result_text += f\"HbA1c: {data['HbA1c']}\\n\"\n",
        "    result_text += f\"Glucose: {data['Glucose']}\"\n",
        "    result_label.config(text=result_text)\n",
        "\n",
        "\n",
        "root = tk.Tk()\n",
        "root.title(\"Patient Data Collection\")\n",
        "root.resizable(False, False)\n",
        "\n",
        "# Create input fields for a single patient's data\n",
        "tk.Label(root, text=\"Name:\").grid(row=0, column=0, sticky=\"w\")\n",
        "entry_name = tk.Entry(root)\n",
        "entry_name.grid(row=0, column=1)\n",
        "\n",
        "# Gender\n",
        "tk.Label(root, text=\"Gender:\").grid(row=1, column=0, sticky=\"w\")\n",
        "gender_var = tk.IntVar(value=-1)\n",
        "tk.Radiobutton(root, text=\"Male\", variable=gender_var, value=1).grid(row=1, column=1, sticky=\"w\")\n",
        "tk.Radiobutton(root, text=\"Female\", variable=gender_var, value=0).grid(row=1, column=2, sticky=\"w\")\n",
        "\n",
        "# Age\n",
        "tk.Label(root, text=\"Age (0-120):\").grid(row=2, column=0, sticky=\"w\")\n",
        "entry_age = tk.Entry(root)\n",
        "entry_age.grid(row=2, column=1)\n",
        "\n",
        "# Hypertension\n",
        "tk.Label(root, text=\"Hypertension:\").grid(row=3, column=0, sticky=\"w\")\n",
        "hypertension_var = tk.IntVar(value=-1)\n",
        "tk.Radiobutton(root, text=\"Yes\", variable=hypertension_var, value=1).grid(row=3, column=1, sticky=\"w\")\n",
        "tk.Radiobutton(root, text=\"No\", variable=hypertension_var, value=0).grid(row=3, column=2, sticky=\"w\")\n",
        "\n",
        "# Heart Disease\n",
        "tk.Label(root, text=\"Heart Disease:\").grid(row=4, column=0, sticky=\"w\")\n",
        "heart_disease_var = tk.IntVar(value=-1)\n",
        "tk.Radiobutton(root, text=\"Yes\", variable=heart_disease_var, value=1).grid(row=4, column=1, sticky=\"w\")\n",
        "tk.Radiobutton(root, text=\"No\", variable=heart_disease_var, value=0).grid(row=4, column=2, sticky=\"w\")\n",
        "\n",
        "# Smoking History\n",
        "tk.Label(root, text=\"Smoking History:\").grid(row=5, column=0, sticky=\"w\")\n",
        "smoking_history_var = tk.IntVar(value=-1)\n",
        "tk.Radiobutton(root, text=\"Yes\", variable=smoking_history_var, value=1).grid(row=5, column=1, sticky=\"w\")\n",
        "tk.Radiobutton(root, text=\"No\", variable=smoking_history_var, value=0).grid(row=5, column=2, sticky=\"w\")\n",
        "\n",
        "# BMI\n",
        "tk.Label(root, text=\"BMI (10-100):\").grid(row=6, column=0, sticky=\"w\")\n",
        "entry_bmi = tk.Entry(root)\n",
        "entry_bmi.grid(row=6, column=1)\n",
        "\n",
        "# HbA1c level\n",
        "tk.Label(root, text=\"HbA1c level (3-10):\").grid(row=7, column=0, sticky=\"w\")\n",
        "entry_hba1c = tk.Entry(root)\n",
        "entry_hba1c.grid(row=7, column=1)\n",
        "\n",
        "# Glucose level\n",
        "tk.Label(root, text=\"Glucose level (80-300):\").grid(row=8, column=0, sticky=\"w\")\n",
        "entry_glucose = tk.Entry(root)\n",
        "entry_glucose.grid(row=8, column=1)\n",
        "\n",
        "# Submit button\n",
        "submit_button = tk.Button(root, text=\"Submit Data\", command=submit_data)\n",
        "submit_button.grid(row=9, column=0, columnspan=3, pady=10)\n",
        "\n",
        "# Result label\n",
        "result_label = tk.Label(root, text=\"\", justify=\"left\")\n",
        "result_label.grid(row=10, column=0, columnspan=3, pady=10)\n",
        "\n",
        "root.mainloop()"
      ]
    }
  ],
  "metadata": {
    "colab": {
      "provenance": []
    },
    "kernelspec": {
      "display_name": "Python 3",
      "name": "python3"
    },
    "language_info": {
      "codemirror_mode": {
        "name": "ipython",
        "version": 3
      },
      "file_extension": ".py",
      "mimetype": "text/x-python",
      "name": "python",
      "nbconvert_exporter": "python",
      "pygments_lexer": "ipython3",
      "version": "3.11.9"
    }
  },
  "nbformat": 4,
  "nbformat_minor": 0
}
